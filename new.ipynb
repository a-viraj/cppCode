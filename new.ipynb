{
 "cells": [
  {
   "cell_type": "code",
   "execution_count": 11,
   "metadata": {},
   "outputs": [
    {
     "name": "stdout",
     "output_type": "stream",
     "text": [
      "['Ren', 'sleep', 'with', 'everyone']\n",
      "['sleep']\n",
      "['Ren', 'sleep', 'with', 'badal', 'everyone']\n",
      "['Ren', 'sleep', 'badal', 'everyone']\n"
     ]
    }
   ],
   "source": [
    "li=[\"Ren\",\"sleep\",\"with\",\"everyone\"]\n",
    "print(li)\n",
    "X=li[1:2]\n",
    "print(X)\n",
    "li.insert(3,\"badal\")\n",
    "print(li)\n",
    "li.pop(2)\n",
    "print(li)"
   ]
  },
  {
   "cell_type": "code",
   "execution_count": 14,
   "metadata": {},
   "outputs": [
    {
     "name": "stdout",
     "output_type": "stream",
     "text": [
      "list before sort:  ['Ren', 'sleep', 'badal', 'everyone']\n",
      "list after sorting:  ['abhi', 'badal', 'piddi']\n",
      "['abhi', 'badal', 'piddi']\n"
     ]
    }
   ],
   "source": [
    "l1=[\"badal\",\"abhi\",\"piddi\"]\n",
    "print(\"list before sort: \",li)\n",
    "l1.sort()\n",
    "print(\"list after sorting: \",l1)\n",
    "x=[]\n",
    "len=len(l1)\n",
    "for i in range (len):\n",
    "    x.append(l1[i])\n",
    "print(x)\n"
   ]
  },
  {
   "cell_type": "code",
   "execution_count": 22,
   "metadata": {},
   "outputs": [
    {
     "name": "stdout",
     "output_type": "stream",
     "text": [
      "[(1, 'badal'), (3, 'piddi'), (5, 'akash')]\n",
      "[(5, 'akash'), (3, 'piddi'), (1, 'badal')]\n"
     ]
    }
   ],
   "source": [
    "d={\n",
    "    1:\"badal\",\n",
    "    5:\"akash\",\n",
    "    3:\"piddi\"\n",
    "}\n",
    "s=sorted(d.items())\n",
    "print(s)\n",
    "r=sorted(d.items(),reverse=True)\n",
    "print(r)"
   ]
  },
  {
   "cell_type": "code",
   "execution_count": 24,
   "metadata": {},
   "outputs": [
    {
     "name": "stdout",
     "output_type": "stream",
     "text": [
      "Member in the BRICS\n"
     ]
    }
   ],
   "source": [
    "country=[\"India\",\"russia\",\"brazil\",\"china\",\"S.A\"]\n",
    "member=input(\"Enter the member\")\n",
    "if member in country:\n",
    "    print(\"Member in the BRICS\")\n",
    "    \n",
    "else:\n",
    "    print(\"Member is not in BRICS\")"
   ]
  },
  {
   "cell_type": "code",
   "execution_count": 28,
   "metadata": {},
   "outputs": [
    {
     "name": "stdout",
     "output_type": "stream",
     "text": [
      "[1, 4, 9, 16, 25, 36, 49, 64, 81, 100]\n",
      "9 36 81 "
     ]
    }
   ],
   "source": [
    "def f(x):\n",
    "    if x%3==0:\n",
    "        return True\n",
    "    else:\n",
    "        return False\n",
    "li=[]\n",
    "for i in range(1,11):\n",
    "    li.append(i**2)\n",
    "print(li)\n",
    "s=filter(f,li)\n",
    "for i in s:\n",
    "    print(i,end=\" \")"
   ]
  },
  {
   "cell_type": "code",
   "execution_count": 38,
   "metadata": {},
   "outputs": [
    {
     "name": "stdout",
     "output_type": "stream",
     "text": [
      "even index\n",
      "0:1\n",
      "2:3\n",
      "4:5\n",
      "odd index\n",
      "1:2\n",
      "3:4\n"
     ]
    }
   ],
   "source": [
    "li=eval(input(\"Enter the list: \"))\n",
    "print(\"even index\")\n",
    "n=5\n",
    "for i in range(0,n):\n",
    "    if i%2==0:\n",
    "        print(\"{}:{}\".format(i,li[i]))\n",
    "print(\"odd index\")\n",
    "for i in range(0,n):\n",
    "    if i%2!=0:\n",
    "        print(\"{}:{}\".format(i,li[i]))\n",
    "    "
   ]
  },
  {
   "cell_type": "code",
   "execution_count": 39,
   "metadata": {},
   "outputs": [
    {
     "name": "stdout",
     "output_type": "stream",
     "text": [
      "[1, 2, 3, 4, 5, 6, 9, 8]\n"
     ]
    }
   ],
   "source": [
    "def unique(x):\n",
    "    unique=[]\n",
    "    for i in x:\n",
    "        if i not in unique:\n",
    "            unique.append(i)\n",
    "    return unique\n",
    "\n",
    "li=eval(input(\"Enter the list: \"))\n",
    "u=unique(li)\n",
    "print(u)"
   ]
  },
  {
   "cell_type": "code",
   "execution_count": 40,
   "metadata": {},
   "outputs": [
    {
     "name": "stdout",
     "output_type": "stream",
     "text": [
      "The factorial of 5 is 120\n"
     ]
    }
   ],
   "source": [
    "def fact(n):\n",
    "    if n<=0:\n",
    "        return 1\n",
    "    return n*fact(n-1)\n",
    "\n",
    "n=int(input(\"Enter the number: \"))\n",
    "print(\"The factorial of {} is {}\".format(n,fact(n)))"
   ]
  }
 ],
 "metadata": {
  "kernelspec": {
   "display_name": "Python 3",
   "language": "python",
   "name": "python3"
  },
  "language_info": {
   "codemirror_mode": {
    "name": "ipython",
    "version": 3
   },
   "file_extension": ".py",
   "mimetype": "text/x-python",
   "name": "python",
   "nbconvert_exporter": "python",
   "pygments_lexer": "ipython3",
   "version": "3.10.7"
  },
  "orig_nbformat": 4,
  "vscode": {
   "interpreter": {
    "hash": "369f2c481f4da34e4445cda3fffd2e751bd1c4d706f27375911949ba6bb62e1c"
   }
  }
 },
 "nbformat": 4,
 "nbformat_minor": 2
}
